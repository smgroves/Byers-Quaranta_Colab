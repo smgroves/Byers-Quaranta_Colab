{
 "cells": [
  {
   "cell_type": "code",
   "execution_count": null,
   "id": "a029c28d-00dc-435a-be1c-fb0bc2890a25",
   "metadata": {},
   "outputs": [],
   "source": []
  }
 ],
 "metadata": {
  "kernelspec": {
   "display_name": "R",
   "language": "R",
   "name": "ir"
  },
  "language_info": {
   "name": ""
  }
 },
 "nbformat": 4,
 "nbformat_minor": 5
}
