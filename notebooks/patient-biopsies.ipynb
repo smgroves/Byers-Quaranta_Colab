{
 "cells": [
  {
   "cell_type": "markdown",
   "id": "outer-accuracy",
   "metadata": {},
   "source": [
    "# Patient Biopsies"
   ]
  },
  {
   "cell_type": "markdown",
   "id": "talented-elevation",
   "metadata": {},
   "source": [
    "## Goals"
   ]
  },
  {
   "cell_type": "code",
   "execution_count": null,
   "id": "historical-headline",
   "metadata": {},
   "outputs": [],
   "source": []
  },
  {
   "cell_type": "code",
   "execution_count": null,
   "id": "freelance-conversion",
   "metadata": {},
   "outputs": [],
   "source": []
  },
  {
   "cell_type": "markdown",
   "id": "jewish-romantic",
   "metadata": {},
   "source": [
    "## Read in data and preprocess.\n",
    "1. Use cell_ids_biopsies.csv to subset data and identify cancer cells versus immune cells.\n",
    "2. Filter genes, normalize, and log-transform.\n",
    "3. Visualize using UMAP and/or tSNE.\n",
    "4. Cluster data using leiden or louvain.\n",
    "4. Find marker genes for each cluster, as well as expression of SCLC markers."
   ]
  },
  {
   "cell_type": "markdown",
   "id": "prescribed-banks",
   "metadata": {},
   "source": [
    "## RNA velocity calculation and plasticity quantification.\n",
    "CDX models from the same patient before and after treatment should be combined so they are comparable (i.e. in the same \"space\"). However, RNA velocity should be calculated independently for each sample."
   ]
  },
  {
   "cell_type": "code",
   "execution_count": null,
   "id": "cathedral-history",
   "metadata": {},
   "outputs": [],
   "source": []
  },
  {
   "cell_type": "code",
   "execution_count": null,
   "id": "guilty-pepper",
   "metadata": {},
   "outputs": [],
   "source": []
  },
  {
   "cell_type": "code",
   "execution_count": null,
   "id": "outstanding-knowing",
   "metadata": {},
   "outputs": [],
   "source": []
  },
  {
   "cell_type": "code",
   "execution_count": null,
   "id": "closing-clause",
   "metadata": {},
   "outputs": [],
   "source": []
  }
 ],
 "metadata": {
  "kernelspec": {
   "display_name": "Python 3",
   "language": "python",
   "name": "python3"
  },
  "language_info": {
   "codemirror_mode": {
    "name": "ipython",
    "version": 3
   },
   "file_extension": ".py",
   "mimetype": "text/x-python",
   "name": "python",
   "nbconvert_exporter": "python",
   "pygments_lexer": "ipython3",
   "version": "3.7.6"
  },
  "toc-autonumbering": true
 },
 "nbformat": 4,
 "nbformat_minor": 5
}
