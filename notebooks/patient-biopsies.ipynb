{
 "cells": [
  {
   "cell_type": "markdown",
   "id": "refined-patch",
   "metadata": {},
   "source": [
    "# Patient Biopsies"
   ]
  },
  {
   "cell_type": "markdown",
   "id": "proof-southwest",
   "metadata": {},
   "source": [
    "## Goals"
   ]
  },
  {
   "cell_type": "markdown",
   "id": "designed-trunk",
   "metadata": {},
   "source": [
    "1. Which subpopulation of each biopsy is most plastic? \n",
    "    - Expectation: We will be able to quantify plasticity of the cancer cells and then compare within each sample to determine which cluster is most plastic.\n",
    "    - Methods: \n",
    "        - **Should we batch correct?**\n",
    "        - RNA velocity and dimensionality reduction (**what DR do we want to use?**)\n",
    "        - Plasticity quantification using two metrics (**what do the end states look like? Are there clusters/ what is the multiplicity of eigenvalue 1?**)\n",
    "    - Possible pitfalls: Not much range in plasticity within a data set. Several regions of the data set have high plasticity. We need to decide what dimensionality reduction to use- PCA space? We proposed working on the UMAP, which will not work well if there are several subpopulations that are discontinuous.\n",
    "2. Is it consistent across treatments? \n",
    "    - We expect that the post-treatment tumors will have subpopulations with higher plasticity. We will want to compare what subpopulations there are and the plasticity of each. \n",
    "    - Methods:\n",
    "        - Identify cancer subtypes to match across samples/treatment.\n",
    "        - Compare plasticity of each subtype directly.\n",
    "        - Consider size of each sample and each subpopulation-- **does number of cells confound plasticity calculations?**\n",
    "    - Pitfalls: we will need to match subpopulations across samples-- for example, if there are A cells before and after treatment, do those change significantly in phenotype or plasticity?\n",
    "3. How does the presence and proportion of immune cells affect plasticity of cancer cells?"
   ]
  },
  {
   "cell_type": "code",
   "execution_count": null,
   "id": "shaped-rocket",
   "metadata": {},
   "outputs": [],
   "source": []
  },
  {
   "cell_type": "markdown",
   "id": "everyday-capability",
   "metadata": {},
   "source": [
    "## Read in data and preprocess.\n",
    "1. Use cell_ids_biopsies.csv to subset data and identify cancer cells versus immune cells.\n",
    "2. Filter genes, normalize, and log-transform.\n",
    "3. Visualize using UMAP and/or tSNE.\n",
    "4. Cluster data using leiden or louvain.\n",
    "4. Find marker genes for each cluster, as well as expression of SCLC markers."
   ]
  },
  {
   "cell_type": "markdown",
   "id": "cleared-deviation",
   "metadata": {},
   "source": [
    "## RNA velocity calculation and plasticity quantification.\n",
    "CDX models from the same patient before and after treatment should be combined so they are comparable (i.e. in the same \"space\"). However, RNA velocity should be calculated independently for each sample."
   ]
  },
  {
   "cell_type": "code",
   "execution_count": null,
   "id": "historic-chicken",
   "metadata": {},
   "outputs": [],
   "source": []
  },
  {
   "cell_type": "code",
   "execution_count": null,
   "id": "still-music",
   "metadata": {},
   "outputs": [],
   "source": []
  },
  {
   "cell_type": "code",
   "execution_count": null,
   "id": "average-black",
   "metadata": {},
   "outputs": [],
   "source": []
  },
  {
   "cell_type": "code",
   "execution_count": null,
   "id": "previous-collar",
   "metadata": {},
   "outputs": [],
   "source": []
  }
 ],
 "metadata": {
  "kernelspec": {
   "display_name": "Python 3 (ipykernel)",
   "language": "python",
   "name": "python3"
  },
  "language_info": {
   "codemirror_mode": {
    "name": "ipython",
    "version": 3
   },
   "file_extension": ".py",
   "mimetype": "text/x-python",
   "name": "python",
   "nbconvert_exporter": "python",
   "pygments_lexer": "ipython3",
   "version": "3.8.8"
  },
  "toc-autonumbering": true
 },
 "nbformat": 4,
 "nbformat_minor": 5
}
